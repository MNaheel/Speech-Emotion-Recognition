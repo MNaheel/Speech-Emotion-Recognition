{
  "cells": [
    {
      "cell_type": "markdown",
      "metadata": {
        "id": "view-in-github",
        "colab_type": "text"
      },
      "source": [
        "<a href=\"https://colab.research.google.com/github/MNaheel/Speech-Emotion-Recognition/blob/main/SPEECH_EMOTION_RECOGNITION_SYSTEM.ipynb\" target=\"_parent\"><img src=\"https://colab.research.google.com/assets/colab-badge.svg\" alt=\"Open In Colab\"/></a>"
      ]
    },
    {
      "cell_type": "code",
      "execution_count": null,
      "metadata": {
        "id": "zkL1_f8Ul3zb"
      },
      "outputs": [],
      "source": [
        "import os \n",
        "Root = \"/content/drive/MyDrive/content/RAVDESS DATASET\"\n",
        "os.chdir(Root)"
      ]
    },
    {
      "cell_type": "code",
      "execution_count": null,
      "metadata": {
        "colab": {
          "base_uri": "https://localhost:8080/"
        },
        "id": "wjZyFGhOoDfd",
        "outputId": "68e2686b-df54-4e43-f3df-8744749b26f4"
      },
      "outputs": [
        {
          "output_type": "stream",
          "name": "stdout",
          "text": [
            "\u001b[0m\u001b[01;34mActor_01\u001b[0m/  \u001b[01;34mActor_06\u001b[0m/  \u001b[01;34mActor_11\u001b[0m/  \u001b[01;34mActor_16\u001b[0m/  \u001b[01;34mActor_21\u001b[0m/\n",
            "\u001b[01;34mActor_02\u001b[0m/  \u001b[01;34mActor_07\u001b[0m/  \u001b[01;34mActor_12\u001b[0m/  \u001b[01;34mActor_17\u001b[0m/  \u001b[01;34mActor_22\u001b[0m/\n",
            "\u001b[01;34mActor_03\u001b[0m/  \u001b[01;34mActor_08\u001b[0m/  \u001b[01;34mActor_13\u001b[0m/  \u001b[01;34mActor_18\u001b[0m/  \u001b[01;34mActor_23\u001b[0m/\n",
            "\u001b[01;34mActor_04\u001b[0m/  \u001b[01;34mActor_09\u001b[0m/  \u001b[01;34mActor_14\u001b[0m/  \u001b[01;34mActor_19\u001b[0m/  \u001b[01;34mActor_24\u001b[0m/\n",
            "\u001b[01;34mActor_05\u001b[0m/  \u001b[01;34mActor_10\u001b[0m/  \u001b[01;34mActor_15\u001b[0m/  \u001b[01;34mActor_20\u001b[0m/  modelForPrediction1.sav\n"
          ]
        }
      ],
      "source": [
        "ls "
      ]
    },
    {
      "cell_type": "code",
      "execution_count": null,
      "metadata": {
        "id": "nzzPqZTVpURQ"
      },
      "outputs": [],
      "source": [
        "import librosa\n",
        "import soundfile \n",
        "import os, glob , pickle \n",
        "import numpy as np\n",
        "from sklearn.model_selection import train_test_split\n",
        "from sklearn.neural_network  import MLPClassifier \n",
        "from sklearn.metrics import accuracy_score"
      ]
    },
    {
      "cell_type": "code",
      "execution_count": null,
      "metadata": {
        "id": "x6PaHZ5CrJQp"
      },
      "outputs": [],
      "source": [
        "#Extracting features (mfcc, chroma, mel) from a sound file \n",
        "def extract_feature(file_name, mfcc, chroma, mel):\n",
        "    with soundfile.SoundFile(file_name) as sound_file:\n",
        "        X=sound_file.read(dtype=\"float32\")\n",
        "        sample_rate=sound_file.samplerate \n",
        "        if chroma:\n",
        "            stft=np.abs(librosa.stft(X))\n",
        "        result=np.array([])\n",
        "        if mfcc:\n",
        "            mfccs=np.mean(librosa.feature.mfcc(y=X,sr=sample_rate,n_mfcc=40).T,axis=0) \n",
        "            result=np.hstack((result, chroma))\n",
        "        if chroma:\n",
        "            chroma=np.mean(librosa.feature.chroma_stft(S=stft, sr=sample_rate).T,axis=0)\n",
        "            result=np.hstack((result, chroma))\n",
        "        if mel:\n",
        "            mel=np.mean(librosa.feature.melspectrogram(X, sr=sample_rate).T, axis=0)\n",
        "            result=np.hstack((result, mel))\n",
        "    return result"
      ]
    },
    {
      "cell_type": "code",
      "execution_count": null,
      "metadata": {
        "id": "InAZDoTBuSRY"
      },
      "outputs": [],
      "source": [
        "# Emotions in the RAVDESS Dataset\n",
        "\n",
        "emotions={\n",
        "    '01':'neutral',\n",
        "    '02':'calm',\n",
        "    '03':'happy',\n",
        "    '04':'sad',\n",
        "    '05':'angry',\n",
        "    '06':'fearful',\n",
        "    '07':'disgust',\n",
        "    '08':'surprised'\n",
        "}\n",
        "\n",
        "# Emotions to observe\n",
        "observed_emotions=['calm','happy', 'fearful', 'disgust']"
      ]
    },
    {
      "cell_type": "code",
      "execution_count": null,
      "metadata": {
        "id": "hRV4ELPIv-W5"
      },
      "outputs": [],
      "source": [
        "#Load the data and extract features for each sound file \n",
        "def load_data(test_size=0.2):\n",
        "    x,y=[],[]\n",
        "    for file in glob.glob(\"/content/drive/MyDrive/content/RAVDESS DATASET/Actor*/*.wav\"):\n",
        "        file_name=os.path.basename(file)\n",
        "        emotion=emotions[file_name.split(\"-\")[2]]\n",
        "        if emotion not in observed_emotions:\n",
        "            continue\n",
        "        feature=extract_feature(file, mfcc=True, chroma=True, mel=True) \n",
        "        x.append(feature)\n",
        "        y.append(emotion)\n",
        "    return train_test_split(np.array(x), y, test_size=test_size, random_state=9)\n",
        "          "
      ]
    },
    {
      "cell_type": "code",
      "execution_count": null,
      "metadata": {
        "id": "7m-4yKd7zOY4"
      },
      "outputs": [],
      "source": [
        "#split the dataset\n",
        "x_train,x_test,y_train,y_test=load_data(test_size=0.25)"
      ]
    },
    {
      "cell_type": "code",
      "execution_count": null,
      "metadata": {
        "colab": {
          "base_uri": "https://localhost:8080/"
        },
        "id": "FeC4D9lr1LlE",
        "outputId": "edee4b00-992d-4692-ee43-cf19b8337e38"
      },
      "outputs": [
        {
          "output_type": "execute_result",
          "data": {
            "text/plain": [
              "array([[1.00000000e+00, 5.88399291e-01, 5.63584387e-01, ...,\n",
              "        2.00737221e-03, 1.30004052e-03, 8.49764736e-04],\n",
              "       [1.00000000e+00, 5.87888360e-01, 5.51521301e-01, ...,\n",
              "        6.78760873e-04, 5.95417165e-04, 3.96228832e-04],\n",
              "       [1.00000000e+00, 5.58024228e-01, 5.49574196e-01, ...,\n",
              "        1.25673105e-05, 7.65429468e-06, 6.76830359e-06],\n",
              "       ...,\n",
              "       [1.00000000e+00, 5.26261747e-01, 5.07971764e-01, ...,\n",
              "        3.12545430e-03, 3.76589503e-03, 3.33341025e-03],\n",
              "       [1.00000000e+00, 5.95124483e-01, 6.39534414e-01, ...,\n",
              "        2.49190093e-03, 1.07249967e-03, 6.86393410e-04],\n",
              "       [1.00000000e+00, 6.43294394e-01, 6.56438828e-01, ...,\n",
              "        5.97219951e-05, 2.71555673e-05, 1.30406825e-05]])"
            ]
          },
          "metadata": {},
          "execution_count": 13
        }
      ],
      "source": [
        "x_train"
      ]
    },
    {
      "cell_type": "code",
      "execution_count": null,
      "metadata": {
        "colab": {
          "base_uri": "https://localhost:8080/"
        },
        "id": "xCljzPgt1OBX",
        "outputId": "12bfabca-d5e4-4a0c-b52b-eaee622b7ef1"
      },
      "outputs": [
        {
          "output_type": "stream",
          "name": "stdout",
          "text": [
            "(576, (192, 141))\n"
          ]
        }
      ],
      "source": [
        "#Get the shape of the training and training Datasets\n",
        "print((x_train.shape[0], x_test.shape))"
      ]
    },
    {
      "cell_type": "code",
      "execution_count": null,
      "metadata": {
        "colab": {
          "base_uri": "https://localhost:8080/"
        },
        "id": "DuKHJ1K51x7V",
        "outputId": "f53c52fb-83d9-4ef5-eaf2-64cf99d2d5c7"
      },
      "outputs": [
        {
          "output_type": "stream",
          "name": "stdout",
          "text": [
            "Features extracted: 141\n"
          ]
        }
      ],
      "source": [
        "#Get the number of features extracted\n",
        "print(f'Features extracted: {x_train.shape[1]}')"
      ]
    },
    {
      "cell_type": "code",
      "execution_count": null,
      "metadata": {
        "id": "vGNCXjsP2E-b"
      },
      "outputs": [],
      "source": [
        "#Initialize the Multilayer Perceptron Classifier\n",
        "model=MLPClassifier(alpha=0.01, batch_size=256, epsilon=1e-08, hidden_layer_sizes=(300,), learning_rate='adaptive', max_iter=500) \n"
      ]
    },
    {
      "cell_type": "code",
      "execution_count": null,
      "metadata": {
        "colab": {
          "base_uri": "https://localhost:8080/"
        },
        "id": "wCBragW58ASH",
        "outputId": "9dabc1bf-4cc8-4d21-a2cb-4b1675dd5359"
      },
      "outputs": [
        {
          "output_type": "stream",
          "name": "stderr",
          "text": [
            "/usr/local/lib/python3.7/dist-packages/sklearn/neural_network/_multilayer_perceptron.py:696: ConvergenceWarning: Stochastic Optimizer: Maximum iterations (500) reached and the optimization hasn't converged yet.\n",
            "  ConvergenceWarning,\n"
          ]
        },
        {
          "output_type": "execute_result",
          "data": {
            "text/plain": [
              "MLPClassifier(alpha=0.01, batch_size=256, hidden_layer_sizes=(300,),\n",
              "              learning_rate='adaptive', max_iter=500)"
            ]
          },
          "metadata": {},
          "execution_count": 17
        }
      ],
      "source": [
        "#Train the model \n",
        "model.fit(x_train,y_train)"
      ]
    },
    {
      "cell_type": "code",
      "execution_count": null,
      "metadata": {
        "id": "ntZEmOKZ81j6"
      },
      "outputs": [],
      "source": [
        "#Predict for the test set\n",
        "y_pred=model.predict(x_test)"
      ]
    },
    {
      "cell_type": "code",
      "execution_count": null,
      "metadata": {
        "colab": {
          "base_uri": "https://localhost:8080/"
        },
        "id": "dNm8CTtj9BV5",
        "outputId": "60696555-c53b-49f4-eb35-e7b3326fa961"
      },
      "outputs": [
        {
          "output_type": "execute_result",
          "data": {
            "text/plain": [
              "array(['calm', 'fearful', 'happy', 'calm', 'disgust', 'happy', 'happy',\n",
              "       'happy', 'fearful', 'disgust', 'happy', 'calm', 'calm', 'happy',\n",
              "       'happy', 'fearful', 'calm', 'fearful', 'happy', 'fearful', 'calm',\n",
              "       'fearful', 'calm', 'calm', 'happy', 'calm', 'happy', 'disgust',\n",
              "       'calm', 'fearful', 'fearful', 'calm', 'happy', 'happy', 'disgust',\n",
              "       'calm', 'calm', 'calm', 'disgust', 'calm', 'happy', 'disgust',\n",
              "       'fearful', 'calm', 'happy', 'disgust', 'happy', 'disgust', 'calm',\n",
              "       'disgust', 'fearful', 'fearful', 'fearful', 'fearful', 'disgust',\n",
              "       'happy', 'fearful', 'calm', 'calm', 'fearful', 'disgust', 'calm',\n",
              "       'happy', 'calm', 'calm', 'calm', 'fearful', 'happy', 'fearful',\n",
              "       'calm', 'fearful', 'calm', 'disgust', 'fearful', 'fearful',\n",
              "       'fearful', 'fearful', 'calm', 'happy', 'disgust', 'fearful',\n",
              "       'calm', 'happy', 'fearful', 'fearful', 'fearful', 'happy', 'calm',\n",
              "       'calm', 'happy', 'disgust', 'happy', 'calm', 'fearful', 'calm',\n",
              "       'happy', 'disgust', 'calm', 'calm', 'disgust', 'disgust',\n",
              "       'disgust', 'disgust', 'happy', 'happy', 'happy', 'disgust',\n",
              "       'fearful', 'fearful', 'happy', 'disgust', 'calm', 'calm', 'calm',\n",
              "       'disgust', 'calm', 'disgust', 'happy', 'calm', 'calm', 'calm',\n",
              "       'disgust', 'calm', 'fearful', 'calm', 'calm', 'disgust', 'fearful',\n",
              "       'fearful', 'calm', 'disgust', 'calm', 'calm', 'disgust', 'disgust',\n",
              "       'disgust', 'disgust', 'disgust', 'disgust', 'disgust', 'fearful',\n",
              "       'happy', 'happy', 'calm', 'happy', 'fearful', 'fearful', 'fearful',\n",
              "       'disgust', 'calm', 'fearful', 'calm', 'happy', 'calm', 'calm',\n",
              "       'disgust', 'fearful', 'disgust', 'calm', 'fearful', 'disgust',\n",
              "       'calm', 'happy', 'fearful', 'calm', 'happy', 'fearful', 'disgust',\n",
              "       'calm', 'fearful', 'disgust', 'happy', 'disgust', 'fearful',\n",
              "       'happy', 'fearful', 'calm', 'fearful', 'disgust', 'disgust',\n",
              "       'disgust', 'happy', 'happy', 'calm', 'calm', 'fearful', 'calm',\n",
              "       'fearful', 'calm', 'calm', 'fearful', 'calm'], dtype='<U7')"
            ]
          },
          "metadata": {},
          "execution_count": 19
        }
      ],
      "source": [
        "y_pred "
      ]
    },
    {
      "cell_type": "code",
      "execution_count": null,
      "metadata": {
        "colab": {
          "base_uri": "https://localhost:8080/"
        },
        "id": "W1_-7yeE9Ms1",
        "outputId": "fae399b8-17bc-41f6-f14f-6e5b10ca2cf9"
      },
      "outputs": [
        {
          "output_type": "stream",
          "name": "stdout",
          "text": [
            "Accuracy: 59.38%\n"
          ]
        }
      ],
      "source": [
        "#Calculate the accuracy of our model \n",
        "accuracy=accuracy_score(y_true=y_test, y_pred=y_pred)\n",
        "\n",
        "#print the accuracy\n",
        "print(\"Accuracy: {:.2f}%\".format(accuracy*100))"
      ]
    },
    {
      "cell_type": "code",
      "execution_count": null,
      "metadata": {
        "id": "7rcKwLf3-9qg"
      },
      "outputs": [],
      "source": [
        "from sklearn.metrics import accuracy_score, f1_score"
      ]
    },
    {
      "cell_type": "code",
      "execution_count": null,
      "metadata": {
        "colab": {
          "base_uri": "https://localhost:8080/"
        },
        "id": "cVGgzjhw_PBR",
        "outputId": "09dbb56f-4a6c-4492-9580-58b8217d653f"
      },
      "outputs": [
        {
          "output_type": "execute_result",
          "data": {
            "text/plain": [
              "array([0.75213675, 0.52173913, 0.57142857, 0.48351648])"
            ]
          },
          "metadata": {},
          "execution_count": 22
        }
      ],
      "source": [
        "f1_score(y_test, y_pred,average=None)"
      ]
    },
    {
      "cell_type": "code",
      "execution_count": null,
      "metadata": {
        "colab": {
          "base_uri": "https://localhost:8080/",
          "height": 677
        },
        "id": "FDhqoeWz_uQB",
        "outputId": "ed9420b3-9054-49a7-ffcf-68a46a119d03"
      },
      "outputs": [
        {
          "output_type": "execute_result",
          "data": {
            "text/plain": [
              "     Actual predicted\n",
              "0      calm      calm\n",
              "1     happy   fearful\n",
              "2     happy     happy\n",
              "3      calm      calm\n",
              "4   disgust   disgust\n",
              "5     happy     happy\n",
              "6     happy     happy\n",
              "7     happy     happy\n",
              "8   disgust   fearful\n",
              "9     happy   disgust\n",
              "10    happy     happy\n",
              "11  disgust      calm\n",
              "12     calm      calm\n",
              "13    happy     happy\n",
              "14  disgust     happy\n",
              "15  fearful   fearful\n",
              "16     calm      calm\n",
              "17    happy   fearful\n",
              "18  disgust     happy\n",
              "19  fearful   fearful"
            ],
            "text/html": [
              "\n",
              "  <div id=\"df-a4641c7d-686e-4251-b549-b59a6e574070\">\n",
              "    <div class=\"colab-df-container\">\n",
              "      <div>\n",
              "<style scoped>\n",
              "    .dataframe tbody tr th:only-of-type {\n",
              "        vertical-align: middle;\n",
              "    }\n",
              "\n",
              "    .dataframe tbody tr th {\n",
              "        vertical-align: top;\n",
              "    }\n",
              "\n",
              "    .dataframe thead th {\n",
              "        text-align: right;\n",
              "    }\n",
              "</style>\n",
              "<table border=\"1\" class=\"dataframe\">\n",
              "  <thead>\n",
              "    <tr style=\"text-align: right;\">\n",
              "      <th></th>\n",
              "      <th>Actual</th>\n",
              "      <th>predicted</th>\n",
              "    </tr>\n",
              "  </thead>\n",
              "  <tbody>\n",
              "    <tr>\n",
              "      <th>0</th>\n",
              "      <td>calm</td>\n",
              "      <td>calm</td>\n",
              "    </tr>\n",
              "    <tr>\n",
              "      <th>1</th>\n",
              "      <td>happy</td>\n",
              "      <td>fearful</td>\n",
              "    </tr>\n",
              "    <tr>\n",
              "      <th>2</th>\n",
              "      <td>happy</td>\n",
              "      <td>happy</td>\n",
              "    </tr>\n",
              "    <tr>\n",
              "      <th>3</th>\n",
              "      <td>calm</td>\n",
              "      <td>calm</td>\n",
              "    </tr>\n",
              "    <tr>\n",
              "      <th>4</th>\n",
              "      <td>disgust</td>\n",
              "      <td>disgust</td>\n",
              "    </tr>\n",
              "    <tr>\n",
              "      <th>5</th>\n",
              "      <td>happy</td>\n",
              "      <td>happy</td>\n",
              "    </tr>\n",
              "    <tr>\n",
              "      <th>6</th>\n",
              "      <td>happy</td>\n",
              "      <td>happy</td>\n",
              "    </tr>\n",
              "    <tr>\n",
              "      <th>7</th>\n",
              "      <td>happy</td>\n",
              "      <td>happy</td>\n",
              "    </tr>\n",
              "    <tr>\n",
              "      <th>8</th>\n",
              "      <td>disgust</td>\n",
              "      <td>fearful</td>\n",
              "    </tr>\n",
              "    <tr>\n",
              "      <th>9</th>\n",
              "      <td>happy</td>\n",
              "      <td>disgust</td>\n",
              "    </tr>\n",
              "    <tr>\n",
              "      <th>10</th>\n",
              "      <td>happy</td>\n",
              "      <td>happy</td>\n",
              "    </tr>\n",
              "    <tr>\n",
              "      <th>11</th>\n",
              "      <td>disgust</td>\n",
              "      <td>calm</td>\n",
              "    </tr>\n",
              "    <tr>\n",
              "      <th>12</th>\n",
              "      <td>calm</td>\n",
              "      <td>calm</td>\n",
              "    </tr>\n",
              "    <tr>\n",
              "      <th>13</th>\n",
              "      <td>happy</td>\n",
              "      <td>happy</td>\n",
              "    </tr>\n",
              "    <tr>\n",
              "      <th>14</th>\n",
              "      <td>disgust</td>\n",
              "      <td>happy</td>\n",
              "    </tr>\n",
              "    <tr>\n",
              "      <th>15</th>\n",
              "      <td>fearful</td>\n",
              "      <td>fearful</td>\n",
              "    </tr>\n",
              "    <tr>\n",
              "      <th>16</th>\n",
              "      <td>calm</td>\n",
              "      <td>calm</td>\n",
              "    </tr>\n",
              "    <tr>\n",
              "      <th>17</th>\n",
              "      <td>happy</td>\n",
              "      <td>fearful</td>\n",
              "    </tr>\n",
              "    <tr>\n",
              "      <th>18</th>\n",
              "      <td>disgust</td>\n",
              "      <td>happy</td>\n",
              "    </tr>\n",
              "    <tr>\n",
              "      <th>19</th>\n",
              "      <td>fearful</td>\n",
              "      <td>fearful</td>\n",
              "    </tr>\n",
              "  </tbody>\n",
              "</table>\n",
              "</div>\n",
              "      <button class=\"colab-df-convert\" onclick=\"convertToInteractive('df-a4641c7d-686e-4251-b549-b59a6e574070')\"\n",
              "              title=\"Convert this dataframe to an interactive table.\"\n",
              "              style=\"display:none;\">\n",
              "        \n",
              "  <svg xmlns=\"http://www.w3.org/2000/svg\" height=\"24px\"viewBox=\"0 0 24 24\"\n",
              "       width=\"24px\">\n",
              "    <path d=\"M0 0h24v24H0V0z\" fill=\"none\"/>\n",
              "    <path d=\"M18.56 5.44l.94 2.06.94-2.06 2.06-.94-2.06-.94-.94-2.06-.94 2.06-2.06.94zm-11 1L8.5 8.5l.94-2.06 2.06-.94-2.06-.94L8.5 2.5l-.94 2.06-2.06.94zm10 10l.94 2.06.94-2.06 2.06-.94-2.06-.94-.94-2.06-.94 2.06-2.06.94z\"/><path d=\"M17.41 7.96l-1.37-1.37c-.4-.4-.92-.59-1.43-.59-.52 0-1.04.2-1.43.59L10.3 9.45l-7.72 7.72c-.78.78-.78 2.05 0 2.83L4 21.41c.39.39.9.59 1.41.59.51 0 1.02-.2 1.41-.59l7.78-7.78 2.81-2.81c.8-.78.8-2.07 0-2.86zM5.41 20L4 18.59l7.72-7.72 1.47 1.35L5.41 20z\"/>\n",
              "  </svg>\n",
              "      </button>\n",
              "      \n",
              "  <style>\n",
              "    .colab-df-container {\n",
              "      display:flex;\n",
              "      flex-wrap:wrap;\n",
              "      gap: 12px;\n",
              "    }\n",
              "\n",
              "    .colab-df-convert {\n",
              "      background-color: #E8F0FE;\n",
              "      border: none;\n",
              "      border-radius: 50%;\n",
              "      cursor: pointer;\n",
              "      display: none;\n",
              "      fill: #1967D2;\n",
              "      height: 32px;\n",
              "      padding: 0 0 0 0;\n",
              "      width: 32px;\n",
              "    }\n",
              "\n",
              "    .colab-df-convert:hover {\n",
              "      background-color: #E2EBFA;\n",
              "      box-shadow: 0px 1px 2px rgba(60, 64, 67, 0.3), 0px 1px 3px 1px rgba(60, 64, 67, 0.15);\n",
              "      fill: #174EA6;\n",
              "    }\n",
              "\n",
              "    [theme=dark] .colab-df-convert {\n",
              "      background-color: #3B4455;\n",
              "      fill: #D2E3FC;\n",
              "    }\n",
              "\n",
              "    [theme=dark] .colab-df-convert:hover {\n",
              "      background-color: #434B5C;\n",
              "      box-shadow: 0px 1px 3px 1px rgba(0, 0, 0, 0.15);\n",
              "      filter: drop-shadow(0px 1px 2px rgba(0, 0, 0, 0.3));\n",
              "      fill: #FFFFFF;\n",
              "    }\n",
              "  </style>\n",
              "\n",
              "      <script>\n",
              "        const buttonEl =\n",
              "          document.querySelector('#df-a4641c7d-686e-4251-b549-b59a6e574070 button.colab-df-convert');\n",
              "        buttonEl.style.display =\n",
              "          google.colab.kernel.accessAllowed ? 'block' : 'none';\n",
              "\n",
              "        async function convertToInteractive(key) {\n",
              "          const element = document.querySelector('#df-a4641c7d-686e-4251-b549-b59a6e574070');\n",
              "          const dataTable =\n",
              "            await google.colab.kernel.invokeFunction('convertToInteractive',\n",
              "                                                     [key], {});\n",
              "          if (!dataTable) return;\n",
              "\n",
              "          const docLinkHtml = 'Like what you see? Visit the ' +\n",
              "            '<a target=\"_blank\" href=https://colab.research.google.com/notebooks/data_table.ipynb>data table notebook</a>'\n",
              "            + ' to learn more about interactive tables.';\n",
              "          element.innerHTML = '';\n",
              "          dataTable['output_type'] = 'display_data';\n",
              "          await google.colab.output.renderOutput(dataTable, element);\n",
              "          const docLink = document.createElement('div');\n",
              "          docLink.innerHTML = docLinkHtml;\n",
              "          element.appendChild(docLink);\n",
              "        }\n",
              "      </script>\n",
              "    </div>\n",
              "  </div>\n",
              "  "
            ]
          },
          "metadata": {},
          "execution_count": 23
        }
      ],
      "source": [
        "import pandas as pd \n",
        "df=pd.DataFrame({'Actual': y_test, 'predicted':y_pred})\n",
        "df.head(20)"
      ]
    },
    {
      "cell_type": "code",
      "execution_count": null,
      "metadata": {
        "id": "gxGUc46iBAHd"
      },
      "outputs": [],
      "source": [
        "import pickle \n",
        "#writing different module files to file \n",
        "with open( 'modelForPrediction1.sav','wb') as f:\n",
        "    pickle.dump(model,f)"
      ]
    },
    {
      "cell_type": "code",
      "execution_count": null,
      "metadata": {
        "colab": {
          "base_uri": "https://localhost:8080/"
        },
        "id": "Qk-vvlRwBfpo",
        "outputId": "7561be21-eb67-4df7-81ea-360ac4f5d90d"
      },
      "outputs": [
        {
          "output_type": "execute_result",
          "data": {
            "text/plain": [
              "array(['calm'], dtype='<U7')"
            ]
          },
          "metadata": {},
          "execution_count": 25
        }
      ],
      "source": [
        "filename = 'modelForPrediction1.sav'\n",
        "loaded_model = pickle.load(open(filename, 'rb'))      #Loading the model file from the storage \n",
        "feature=extract_feature(\"/content/drive/MyDrive/content/RAVDESS DATASET/Actor_04/03-01-01-01-01-02-04.wav\", mfcc=True, chroma=True, mel=True)\n",
        "\n",
        "feature=feature.reshape(1,-1)\n",
        "\n",
        "prediction=loaded_model.predict(feature) \n",
        "prediction"
      ]
    }
  ],
  "metadata": {
    "colab": {
      "provenance": [],
      "mount_file_id": "1xq7tyMI770rSWb6Nen4j58MO4Nxb0C9n",
      "authorship_tag": "ABX9TyOXXZH1eSOf8AIEePJJUHwH",
      "include_colab_link": true
    },
    "kernelspec": {
      "display_name": "Python 3",
      "name": "python3"
    },
    "language_info": {
      "name": "python"
    }
  },
  "nbformat": 4,
  "nbformat_minor": 0
}